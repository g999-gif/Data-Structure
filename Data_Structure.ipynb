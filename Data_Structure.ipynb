{
  "nbformat": 4,
  "nbformat_minor": 0,
  "metadata": {
    "colab": {
      "provenance": []
    },
    "kernelspec": {
      "name": "python3",
      "display_name": "Python 3"
    },
    "language_info": {
      "name": "python"
    }
  },
  "cells": [
    {
      "cell_type": "markdown",
      "source": [
        "# Data Structure\n",
        "\n",
        "1 What are data structures, and why are they important?\n",
        " - Data structures are ways to organize and store data efficiently to facilitate access and modification. They are important because they determine the performance of algorithms in terms of time and space complexity.\n",
        "\n",
        "2 Difference between mutable and immutable data types with examples:\n",
        "\n",
        "  - Mutable: Can be changed after creation (e.g., lists, dictionaries).\n",
        "Example: list1 = [1, 2, 3]; list1[0] = 10 → [10, 2, 3]\n",
        "Immutable: Cannot be changed after creation (e.g., strings, tuples).\n",
        "Example: str1 = \"hello\"; str1[0] = 'H' → Error.\n",
        "\n",
        "3 Main differences between lists and tuples in Python:\n",
        " - Lists are mutable; tuples are immutable.\n",
        "Lists use more memory; tuples are more memory-efficient.\n",
        "Tuples are faster for iteration than lists.\n",
        "\n",
        "4 How do dictionaries store data?\n",
        " - Dictionaries store data as key-value pairs using a hash table. Keys are hashed for quick lookup.\n",
        "\n",
        "5 Why use a set instead of a list in Python?\n",
        " - Sets automatically handle duplicate values and provide faster membership tests (O(1) on average).\n",
        "\n",
        "6 What is a string in Python, and how is it different from a list?\n",
        "- A string is a sequence of characters, immutable in Python. Unlike lists, strings cannot have their elements modified or removed.\n",
        "\n",
        "7 How do tuples ensure data integrity in Python?\n",
        "- Tuples are immutable, ensuring their contents remain unchanged, which makes them useful for fixed collections of data.\n",
        "\n",
        "8 What is a hash table, and how does it relate to dictionaries?\n",
        "- A hash table maps keys to values using a hash function. Python dictionaries are implemented using hash tables.\n",
        "\n",
        "9 Can lists contain different data types in Python?\n",
        "- Yes, lists can hold elements of different data types, such as ['hello', 42, True].\n",
        "\n",
        "10 Why are strings immutable in Python?\n",
        "- String immutability ensures safety in multithreading and allows sharing memory for identical strings, improving performance.\n",
        "\n",
        "11 Advantages of dictionaries over lists:\n",
        "- Faster lookups (O(1) vs O(n)).\n",
        "Organized data storage with key-value pairs.\n",
        "\n",
        "12 When to use a tuple over a list?\n",
        "- When the data should remain unchanged, such as geographic coordinates or fixed configurations.\n",
        "\n",
        "13 How do sets handle duplicate values in Python?\n",
        "- Sets automatically discard duplicate values.\n",
        "\n",
        "14 How does the in keyword work differently for lists and dictionaries?\n",
        "- Lists: Checks for existence of a value.\n",
        "Dictionaries: Checks for existence of a key.\n",
        "\n",
        "15 Can you modify elements of a tuple?\n",
        "- No, because tuples are immutable. However, you can modify mutable elements within a tuple (e.g., a list inside a tuple).\n",
        "\n",
        "16 What is a nested dictionary, and its use case?\n",
        "- A dictionary within a dictionary. Useful for storing hierarchical data like employee details grouped by departments.\n",
        "\n",
        "17 Time complexity of accessing elements in a dictionary:\n",
        "- Average case: O(1); Worst case: O(n) (rare, due to hash collisions).\n",
        "\n",
        "18 When are lists preferred over dictionaries?\n",
        "- When data is sequential or order matters, and key-value mapping is unnecessary.\n",
        "\n",
        "19 Why are dictionaries considered unordered?\n",
        "- Prior to Python 3.7, dictionaries did not maintain insertion order. Even now, they retrieve data by keys, not position.\n",
        "\n",
        "20 Difference between a list and a dictionary in terms of retrieval:\n",
        "- Lists use indices (O(n) for searching), while dictionaries use keys (O(1) for lookup)."
      ],
      "metadata": {
        "id": "vZBPrtmPZK6z"
      }
    },
    {
      "cell_type": "code",
      "execution_count": null,
      "metadata": {
        "id": "cIInCYtMZI3J"
      },
      "outputs": [],
      "source": [
        "# 1 Create a string and print it:\n",
        "\n",
        "name = \"John Doe\"\n",
        "print(name)"
      ]
    },
    {
      "cell_type": "code",
      "source": [
        "# 2 Find the length of \"Hello World\":\n",
        "\n",
        "print(len(\"Hello World\"))"
      ],
      "metadata": {
        "id": "QIPEhl0_bHdM"
      },
      "execution_count": null,
      "outputs": []
    },
    {
      "cell_type": "code",
      "source": [
        "# 3 Slice the first 3 characters from \"Python Programming\":\n",
        "\n",
        "print(\"Python Programming\"[:3])"
      ],
      "metadata": {
        "id": "dGcaY6BDbHNF"
      },
      "execution_count": null,
      "outputs": []
    },
    {
      "cell_type": "code",
      "source": [
        "#4 Convert \"hello\" to uppercase:\n",
        "\n",
        "print(\"hello\".upper())"
      ],
      "metadata": {
        "id": "3Wudu6I5bHBU"
      },
      "execution_count": null,
      "outputs": []
    },
    {
      "cell_type": "code",
      "source": [
        "#5 Replace \"apple\" with \"orange\":\n",
        "\n",
        "print(\"I like apple\".replace(\"apple\", \"orange\"))"
      ],
      "metadata": {
        "id": "tzeTondtbG2m"
      },
      "execution_count": null,
      "outputs": []
    },
    {
      "cell_type": "code",
      "source": [
        "#6 Create a list with numbers 1 to 5 and print it:\n",
        "\n",
        "numbers = [1, 2, 3, 4, 5]\n",
        "print(numbers)"
      ],
      "metadata": {
        "id": "wqXt5W0-bGro"
      },
      "execution_count": null,
      "outputs": []
    },
    {
      "cell_type": "code",
      "source": [
        "#7 Append 10 to the list [1, 2, 3, 4]:\n",
        "\n",
        "numbers = [1, 2, 3, 4]\n",
        "numbers.append(10)\n",
        "print(numbers)"
      ],
      "metadata": {
        "id": "4xA7ST7UbGgh"
      },
      "execution_count": null,
      "outputs": []
    },
    {
      "cell_type": "code",
      "source": [
        "#8 Remove 3 from [1, 2, 3, 4, 5]:\n",
        "\n",
        "numbers = [1, 2, 3, 4, 5]\n",
        "numbers.remove(3)\n",
        "print(numbers)\n"
      ],
      "metadata": {
        "id": "JhdAO1tmbGVF"
      },
      "execution_count": null,
      "outputs": []
    },
    {
      "cell_type": "code",
      "source": [
        "#9 Access the second element in ['a', 'b', 'c', 'd']:\n",
        "\n",
        "print(['a', 'b', 'c', 'd'][1])"
      ],
      "metadata": {
        "id": "xT093XAqbGK6"
      },
      "execution_count": null,
      "outputs": []
    },
    {
      "cell_type": "code",
      "source": [
        "#10 Reverse [10, 20, 30, 40, 50]:\n",
        "\n",
        "print([10, 20, 30, 40, 50][::-1])"
      ],
      "metadata": {
        "id": "so1RPD0QbGAA"
      },
      "execution_count": null,
      "outputs": []
    },
    {
      "cell_type": "code",
      "source": [
        "#11 Create and print a tuple with 10, 20, 30:\n",
        "\n",
        "tpl = (10, 20, 30)\n",
        "print(tpl)"
      ],
      "metadata": {
        "id": "kSNPUJxHbF0v"
      },
      "execution_count": null,
      "outputs": []
    },
    {
      "cell_type": "code",
      "source": [
        "#12 Access the first element of ('apple', 'banana', 'cherry'):\n",
        "\n",
        "print(('apple', 'banana', 'cherry')[0])"
      ],
      "metadata": {
        "id": "Z5N3mmL5bFpE"
      },
      "execution_count": null,
      "outputs": []
    },
    {
      "cell_type": "code",
      "source": [
        "#13 Count occurrences of 2 in (1, 2, 3, 2, 4, 2):\n",
        "\n",
        "print((1, 2, 3, 2, 4, 2).count(2))"
      ],
      "metadata": {
        "id": "B6LmHAT2bFeH"
      },
      "execution_count": null,
      "outputs": []
    },
    {
      "cell_type": "code",
      "source": [
        "#14 Find the index of \"cat\" in ('dog', 'cat', 'rabbit'):\n",
        "\n",
        "print(('dog', 'cat', 'rabbit').index('cat'))"
      ],
      "metadata": {
        "id": "5qjtAWEnbFRG"
      },
      "execution_count": null,
      "outputs": []
    },
    {
      "cell_type": "code",
      "source": [
        "#15 Check if \"banana\" is in ('apple', 'orange', 'banana'):\n",
        "\n",
        "print(\"banana\" in ('apple', 'orange', 'banana'))"
      ],
      "metadata": {
        "id": "GJaeEXTlbFJA"
      },
      "execution_count": null,
      "outputs": []
    },
    {
      "cell_type": "code",
      "source": [
        "#16 Create and print a set with {1, 2, 3, 4, 5}:\n",
        "\n",
        "print({1, 2, 3, 4, 5})"
      ],
      "metadata": {
        "id": "xvZW0mBtbE9Q"
      },
      "execution_count": null,
      "outputs": []
    },
    {
      "cell_type": "code",
      "source": [
        "#17 Add 6 to {1, 2, 3, 4}:\n",
        "\n",
        "s = {1, 2, 3, 4}\n",
        "s.add(6)\n",
        "print(s)"
      ],
      "metadata": {
        "id": "wlg_yhKRbEx0"
      },
      "execution_count": null,
      "outputs": []
    },
    {
      "cell_type": "markdown",
      "source": [
        "Rest of the questions ahead are repeated one's\n",
        "\n",
        "- 18 same as ques 11\n",
        "- 19 same as ques 12\n",
        "- 20 same as ques 13\n",
        "- 21 same as ques 14\n",
        "- 22 same as ques 15\n",
        "- 23 same as ques 16\n",
        "- 24 same as ques 17"
      ],
      "metadata": {
        "id": "goSA3JLQdJR7"
      }
    }
  ]
}